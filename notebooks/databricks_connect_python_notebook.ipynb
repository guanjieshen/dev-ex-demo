{
 "cells": [
  {
   "cell_type": "code",
   "execution_count": 1,
   "metadata": {},
   "outputs": [],
   "source": [
    "\n",
    "from pyspark.sql.types import *\n",
    "from databricks.connect import DatabricksSession\n",
    "\n",
    "\n",
    "spark = DatabricksSession.builder.getOrCreate()\n",
    "\n",
    "line_item  = spark.read.table(\"gshen_catalog.tpch.lineitem\")"
   ]
  },
  {
   "cell_type": "code",
   "execution_count": 2,
   "metadata": {},
   "outputs": [
    {
     "name": "stdout",
     "output_type": "stream",
     "text": [
      "+----------+\n",
      "|l_orderkey|\n",
      "+----------+\n",
      "|   3655303|\n",
      "|   3752455|\n",
      "|   8031776|\n",
      "|   8069601|\n",
      "|   8075268|\n",
      "|   8088199|\n",
      "|   8099845|\n",
      "|   8176740|\n",
      "|   8190596|\n",
      "|   8216327|\n",
      "|   8329281|\n",
      "|   8546307|\n",
      "|   8572067|\n",
      "|   8741831|\n",
      "|   8746789|\n",
      "|   8899905|\n",
      "|   4756642|\n",
      "|   4790818|\n",
      "|   4828068|\n",
      "|   4842625|\n",
      "+----------+\n",
      "only showing top 20 rows\n",
      "\n"
     ]
    }
   ],
   "source": [
    "# filter dataframe by column l_suppkey ==11315 and select only l_orderkey\n",
    "line_item.filter(line_item.l_suppkey == 11315).select(\"l_orderkey\").show()"
   ]
  }
 ],
 "metadata": {
  "kernelspec": {
   "display_name": ".venv",
   "language": "python",
   "name": "python3"
  },
  "language_info": {
   "codemirror_mode": {
    "name": "ipython",
    "version": 3
   },
   "file_extension": ".py",
   "mimetype": "text/x-python",
   "name": "python",
   "nbconvert_exporter": "python",
   "pygments_lexer": "ipython3",
   "version": "3.11.0"
  },
  "orig_nbformat": 4
 },
 "nbformat": 4,
 "nbformat_minor": 2
}
